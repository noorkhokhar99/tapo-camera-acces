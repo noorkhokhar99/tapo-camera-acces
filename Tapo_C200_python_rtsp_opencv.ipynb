{
 "cells": [
  {
   "cell_type": "code",
   "execution_count": 1,
   "id": "d431935d-8240-4a7a-8ca0-67a37cfa8155",
   "metadata": {},
   "outputs": [
    {
     "name": "stdout",
     "output_type": "stream",
     "text": [
      "Failed to open RTSP stream\n",
      "Failed to read frame\n"
     ]
    }
   ],
   "source": [
    "#Using Tapo C200 TP Link Camera for Open CV \n",
    "#Connect using RTSP Link\n",
    "#This is still in discovery phase and has a working script\n",
    "#Mark Anthony V. Hernandez\n",
    "#May 31, 2023\n",
    "\n",
    "import cv2\n",
    "\n",
    "# Set up camera connection details\n",
    "ip_address = '192.168.0.XX' # Replace with the IP address of your camera\n",
    "port = '554'          # Replace with the port number for your camera\n",
    "username = 'admin'    # Replace with the username for your camera\n",
    "password = 'password' # Replace with the password for your camera\n",
    "\n",
    "# Construct the RTSP stream URLs using variables\n",
    "url_640x480 = f\"rtsp://{username}:{password}@{ip_address}:{port}/stream2\"\n",
    "url_1080p = f\"rtsp://{username}:{password}@{ip_address}:{port}/stream1\"\n",
    "\n",
    "# Set up RTSP stream URL\n",
    "rtsp_url = url_640x480\n",
    "\n",
    "# Open the RTSP stream\n",
    "cap = cv2.VideoCapture(rtsp_url)\n",
    "\n",
    "# Check if the RTSP stream is opened successfully\n",
    "if not cap.isOpened():\n",
    "    print(\"Failed to open RTSP stream\")\n",
    "    exit()\n",
    "\n",
    "while True:\n",
    "    # Read a frame from the RTSP stream\n",
    "    ret, frame = cap.read()\n",
    "\n",
    "    # Check if the frame is read correctly\n",
    "    if not ret:\n",
    "        print(\"Failed to read frame\")\n",
    "        break\n",
    "\n",
    "    # Display the frame\n",
    "    cv2.imshow(\"RTSP Stream\", frame)\n",
    "\n",
    "    # Press 'q' to quit\n",
    "    if cv2.waitKey(1) & 0xFF == ord('q'):\n",
    "        break\n",
    "\n",
    "# Release the RTSP stream and close the window\n",
    "cap.release()\n",
    "cv2.destroyAllWindows()\n"
   ]
  },
  {
   "cell_type": "code",
   "execution_count": null,
   "id": "afe048d2-33a2-4d44-bf80-ae6139495b51",
   "metadata": {},
   "outputs": [],
   "source": []
  },
  {
   "cell_type": "code",
   "execution_count": null,
   "id": "006d0a86-fef5-4de4-9714-22fb5f08df3e",
   "metadata": {},
   "outputs": [],
   "source": []
  }
 ],
 "metadata": {
  "kernelspec": {
   "display_name": "Python 3 (ipykernel)",
   "language": "python",
   "name": "python3"
  },
  "language_info": {
   "codemirror_mode": {
    "name": "ipython",
    "version": 3
   },
   "file_extension": ".py",
   "mimetype": "text/x-python",
   "name": "python",
   "nbconvert_exporter": "python",
   "pygments_lexer": "ipython3",
   "version": "3.10.1"
  }
 },
 "nbformat": 4,
 "nbformat_minor": 5
}
